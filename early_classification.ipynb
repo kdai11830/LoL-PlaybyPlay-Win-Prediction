{
 "cells": [
  {
   "attachments": {},
   "cell_type": "markdown",
   "metadata": {},
   "source": [
    "# Early Classification Model\n",
    "- https://link.springer.com/article/10.1007/s10618-020-00690-z\n",
    "- train model for each time stamp\n",
    "- train single class SVM to determine if prediction is good enough"
   ]
  },
  {
   "cell_type": "code",
   "execution_count": 152,
   "metadata": {},
   "outputs": [],
   "source": [
    "import os\n",
    "import numpy as np\n",
    "import pandas as pd\n",
    "import json\n",
    "import joblib\n",
    "import matplotlib.pyplot as plt\n",
    "import seaborn as sns\n",
    "from collections import defaultdict\n",
    "from sklearn.linear_model import LogisticRegression\n",
    "from lightgbm import LGBMClassifier\n",
    "from xgboost import XGBClassifier\n",
    "from sklearn.svm import OneClassSVM\n",
    "import torch\n",
    "import torch.nn as nn\n",
    "from pyts.transformation import WEASEL\n",
    "from pyts.multivariate.classification import MultivariateClassifier\n",
    "from pyts.classification import KNeighborsClassifier, TimeSeriesForest, BOSSVS\n",
    "from torch.utils.data import Dataset, TensorDataset, DataLoader\n",
    "from sklearn.model_selection import train_test_split\n",
    "from sklearn.metrics import confusion_matrix, roc_curve, auc, f1_score, accuracy_score\n",
    "from sklearn.base import clone\n",
    "\n",
    "import LSTM_Training"
   ]
  },
  {
   "attachments": {},
   "cell_type": "markdown",
   "metadata": {},
   "source": [
    "## Data loading and formatting"
   ]
  },
  {
   "cell_type": "code",
   "execution_count": 5,
   "metadata": {},
   "outputs": [],
   "source": [
    "X_path = 'data_training/X.npy'\n",
    "Y_path = 'data_training/Y.npy'\n",
    "X_flat_path = 'data_training/X_flat.npy'\n",
    "Y_flat_path = 'data_training/Y_flat.npy'"
   ]
  },
  {
   "cell_type": "code",
   "execution_count": 6,
   "metadata": {},
   "outputs": [
    {
     "name": "stdout",
     "output_type": "stream",
     "text": [
      "(9022, 21, 32)\n",
      "(9022,)\n",
      "(189462, 34)\n",
      "(189462,)\n"
     ]
    }
   ],
   "source": [
    "X = np.load(X_path)\n",
    "Y = np.load(Y_path)\n",
    "X_flat = np.load(X_flat_path)\n",
    "Y_flat = np.load(Y_flat_path)\n",
    "print(X.shape)\n",
    "print(Y.shape)\n",
    "print(X_flat.shape)\n",
    "print(Y_flat.shape)"
   ]
  },
  {
   "cell_type": "code",
   "execution_count": 8,
   "metadata": {},
   "outputs": [
    {
     "name": "stdout",
     "output_type": "stream",
     "text": [
      "timestamp: 60000, X shape: (7217, 2, 32), X_flat shape: (14435, 34)\n",
      "timestamp: 120000, X shape: (7217, 3, 32), X_flat shape: (21652, 34)\n",
      "timestamp: 180000, X shape: (7217, 4, 32), X_flat shape: (28870, 34)\n",
      "timestamp: 240000, X shape: (7217, 5, 32), X_flat shape: (36088, 34)\n",
      "timestamp: 300000, X shape: (7217, 6, 32), X_flat shape: (43305, 34)\n",
      "timestamp: 360000, X shape: (7217, 7, 32), X_flat shape: (50523, 34)\n",
      "timestamp: 420000, X shape: (7217, 8, 32), X_flat shape: (57740, 34)\n",
      "timestamp: 480000, X shape: (7217, 9, 32), X_flat shape: (64958, 34)\n",
      "timestamp: 540000, X shape: (7217, 10, 32), X_flat shape: (72176, 34)\n",
      "timestamp: 600000, X shape: (7217, 11, 32), X_flat shape: (79393, 34)\n",
      "timestamp: 660000, X shape: (7217, 12, 32), X_flat shape: (86611, 34)\n",
      "timestamp: 720000, X shape: (7217, 13, 32), X_flat shape: (93828, 34)\n",
      "timestamp: 780000, X shape: (7217, 14, 32), X_flat shape: (101046, 34)\n",
      "timestamp: 840000, X shape: (7217, 15, 32), X_flat shape: (108264, 34)\n",
      "timestamp: 900000, X shape: (7217, 16, 32), X_flat shape: (115481, 34)\n",
      "timestamp: 960000, X shape: (7217, 17, 32), X_flat shape: (122699, 34)\n",
      "timestamp: 1020000, X shape: (7217, 18, 32), X_flat shape: (129916, 34)\n",
      "timestamp: 1080000, X shape: (7217, 19, 32), X_flat shape: (137134, 34)\n",
      "timestamp: 1140000, X shape: (7217, 20, 32), X_flat shape: (144352, 34)\n",
      "timestamp: 1200000, X shape: (7217, 21, 32), X_flat shape: (151569, 34)\n"
     ]
    }
   ],
   "source": [
    "X_train_dict = {}\n",
    "Y_train_dict = {}\n",
    "X_flat_train_dict = {}\n",
    "Y_flat_train_dict = {}\n",
    "\n",
    "X_test_dict = {}\n",
    "Y_test_dict = {}\n",
    "X_flat_test_dict = {}\n",
    "Y_flat_test_dict = {}\n",
    "\n",
    "\n",
    "for i, timestamp in enumerate(np.arange(60000, 1260000, 60000)):\n",
    "    X_tmp = X[:,:i+2,:]\n",
    "    Y_tmp = Y\n",
    "    X_tmp_flat = X_flat[X_flat[:,0] <= timestamp,:]\n",
    "    Y_tmp_flat = Y_flat[X_flat[:,0] <= timestamp]\n",
    "    X_train_dict[timestamp], X_test_dict[timestamp], Y_train_dict[timestamp], Y_test_dict[timestamp] = train_test_split(X_tmp, Y_tmp, test_size=0.2, random_state=42)\n",
    "    X_flat_train_dict[timestamp], X_flat_test_dict[timestamp], Y_flat_train_dict[timestamp], Y_flat_test_dict[timestamp] = train_test_split(X_tmp_flat, Y_tmp_flat, test_size=0.2, random_state=42)\n",
    "    print(f'timestamp: {timestamp}, X shape: {X_train_dict[timestamp].shape}, X_flat shape: {X_flat_train_dict[timestamp].shape}')\n"
   ]
  },
  {
   "cell_type": "code",
   "execution_count": 93,
   "metadata": {},
   "outputs": [
    {
     "name": "stdout",
     "output_type": "stream",
     "text": [
      "timestamp: 60000, X shape: (9022, 2, 32)\n",
      "timestamp: 120000, X shape: (9022, 3, 32)\n",
      "timestamp: 180000, X shape: (9022, 4, 32)\n",
      "timestamp: 240000, X shape: (9022, 5, 32)\n",
      "timestamp: 300000, X shape: (9022, 6, 32)\n",
      "timestamp: 360000, X shape: (9022, 7, 32)\n",
      "timestamp: 420000, X shape: (9022, 8, 32)\n",
      "timestamp: 480000, X shape: (9022, 9, 32)\n",
      "timestamp: 540000, X shape: (9022, 10, 32)\n",
      "timestamp: 600000, X shape: (9022, 11, 32)\n",
      "timestamp: 660000, X shape: (9022, 12, 32)\n",
      "timestamp: 720000, X shape: (9022, 13, 32)\n",
      "timestamp: 780000, X shape: (9022, 14, 32)\n",
      "timestamp: 840000, X shape: (9022, 15, 32)\n",
      "timestamp: 900000, X shape: (9022, 16, 32)\n",
      "timestamp: 960000, X shape: (9022, 17, 32)\n",
      "timestamp: 1020000, X shape: (9022, 18, 32)\n",
      "timestamp: 1080000, X shape: (9022, 19, 32)\n",
      "timestamp: 1140000, X shape: (9022, 20, 32)\n",
      "timestamp: 1200000, X shape: (9022, 21, 32)\n"
     ]
    }
   ],
   "source": [
    "# for LSTM\n",
    "X_dict = {}\n",
    "Y_dict = {}\n",
    "\n",
    "for i, timestamp in enumerate(np.arange(60000, 1260000, 60000)):\n",
    "    X_dict[timestamp] = X[:,:i+2,:]\n",
    "    Y_dict[timestamp] = Y\n",
    "    print(f'timestamp: {timestamp}, X shape: {X_dict[timestamp].shape}')\n"
   ]
  },
  {
   "attachments": {},
   "cell_type": "markdown",
   "metadata": {},
   "source": [
    "## Pipeline Definition\n",
    "- parameter is class for each individual timestamp model\n",
    "    - need to use multivariate time series classification model\n",
    "- for now, only use one class SVM (ocSVM) for quality assurance (parent) classifier"
   ]
  },
  {
   "attachments": {},
   "cell_type": "markdown",
   "metadata": {},
   "source": [
    "### Basic ML pipeline"
   ]
  },
  {
   "cell_type": "code",
   "execution_count": 100,
   "metadata": {},
   "outputs": [],
   "source": [
    "# Early classifier for basic ML classification models\n",
    "# For classic ML, need flat along time axis\n",
    "class EarlyClassifier():\n",
    "    def __init__(self, sub_model):\n",
    "        self.sub_model = sub_model\n",
    "        self.qa_model = OneClassSVM(kernel='rbf')\n",
    "        self.timestamp_models = {}\n",
    "        self.qa_models = {}\n",
    "        self.scores = {}\n",
    "\n",
    "    '''\n",
    "    params:\n",
    "        - X_dict: keys are timestamps, values are training data for timestamp\n",
    "        - Y_dict: keys are timestamps, values are training labels for timestamp\n",
    "    '''\n",
    "    def fit(self, X_dict, Y_dict):\n",
    "        for timestamp in X_dict.keys():\n",
    "            print(f'Training model at timestamp {timestamp}...')\n",
    "            self.timestamp_models[timestamp] = clone(self.sub_model)\n",
    "            self.timestamp_models[timestamp].fit(X_dict[timestamp], Y_dict[timestamp])\n",
    "            c = self.timestamp_models[timestamp].predict(X_dict[timestamp])\n",
    "            # filter for only correct predictions\n",
    "            correct_pred = np.equal(c,Y_dict[timestamp])\n",
    "            c = c[correct_pred]\n",
    "            P = self.timestamp_models[timestamp].predict_proba(X_dict[timestamp])[correct_pred]\n",
    "            # P = list(zip(P[:,0],P[:,1]))\n",
    "            d = np.subtract(np.sort(P, axis=1)[:,0],np.sort(P, axis=1)[:,1])\n",
    "            X_qa = np.array(list(zip(c, P[:,0], P[:,1], d)))\n",
    "            self.qa_models[timestamp] = clone(self.qa_model)\n",
    "            self.qa_models[timestamp].fit(X_qa)\n",
    "        print('model training complete')\n",
    "\n",
    "    '''\n",
    "    params:\n",
    "        - X_dict: keys are timestamps, values are prediction data for timestamp\n",
    "    return:\n",
    "        - predictions: dict with keys as timestamps, values as list of tuples of predicted class and QA class value\n",
    "    '''\n",
    "    def predict(self, X_dict):\n",
    "        predictions = {}\n",
    "        for timestamp, X in X_dict.items():\n",
    "            pred = self.timestamp_models[timestamp].predict(X)\n",
    "            qa_pred = self.qa_models[timestamp].predict(X)\n",
    "            predictions[timestamp] = list(zip(pred, qa_pred))\n",
    "        return predictions\n",
    "    \n",
    "    def score(self, X_test_dict, Y_test_dict):\n",
    "        for timestamp in X_test_dict.keys():\n",
    "            score = self.timestamp_models[timestamp].score(X_test_dict[timestamp],Y_test_dict[timestamp])\n",
    "            print(f'model score at timestamp {timestamp}: {score}')\n",
    "            self.scores[timestamp] = score * 100\n",
    "\n",
    "    def save_models(self, dir):\n",
    "        for timestamp in self.timestamp_models.keys():\n",
    "            print(f'writing models for timestamp {timestamp}...')\n",
    "            timestamp_filename = f'{dir}/timestamp_model_{str(timestamp)}.joblib'\n",
    "            qa_filename = f'{dir}/qa_model_{str(timestamp)}.joblib'\n",
    "            joblib.dump(self.timestamp_models[timestamp], timestamp_filename)\n",
    "            joblib.dump(self.qa_models[timestamp], qa_filename)\n",
    "        print('model writing complete')"
   ]
  },
  {
   "attachments": {},
   "cell_type": "markdown",
   "metadata": {},
   "source": [
    "### LSTM"
   ]
  },
  {
   "cell_type": "code",
   "execution_count": 115,
   "metadata": {},
   "outputs": [],
   "source": [
    "# Early classifier for LSTM\n",
    "# Use LSTM_Training.py and 3d dataset\n",
    "class LSTMEarlyClassifier():\n",
    "    def __init__(self, model_parameters):\n",
    "        self.model_parameters = model_parameters\n",
    "        self.qa_model = OneClassSVM(kernel='rbf')\n",
    "        self.timestamp_models = {}\n",
    "        self.qa_models = {}\n",
    "        self.scores = {}\n",
    "        self.train_losses = {}\n",
    "        self.test_losses = {}\n",
    "\n",
    "    '''\n",
    "    params:\n",
    "        - X_dict: keys are timestamps, values are training data for timestamp\n",
    "        - Y_dict: keys are timestamps, values are training labels for timestamp\n",
    "    '''\n",
    "    def fit(self, X_dict, Y_dict):\n",
    "        for timestamp in X_dict.keys():\n",
    "            print(f'Training model at timestamp {timestamp}...')\n",
    "            sub_model, train_losses,test_losses = LSTM_Training.model_training(X_dict[timestamp], Y_dict[timestamp], self.model_parameters)\n",
    "            self.timestamp_models[timestamp] = sub_model\n",
    "            # self.timestamp_models[timestamp].fit(X_dict[timestamp], Y_dict[timestamp])\n",
    "            # print(sub_model(torch.from_numpy(X_dict[timestamp])))\n",
    "            P = sub_model(torch.from_numpy(X_dict[timestamp]))\n",
    "            c = torch.argmax(P, dim=1)\n",
    "            # filter for only correct predictions\n",
    "            correct_pred = np.equal(c,Y_dict[timestamp])\n",
    "            c = c[correct_pred].detach().numpy()\n",
    "            P = P[correct_pred].detach().numpy()\n",
    "            # P = list(zip(P[:,0],P[:,1]))\n",
    "            d = np.subtract(np.sort(P, axis=1)[:,0],np.sort(P, axis=1)[:,1])\n",
    "            X_qa = np.array(list(zip(c, P[:,0], P[:,1], d)))\n",
    "            self.qa_models[timestamp] = clone(self.qa_model)\n",
    "            self.qa_models[timestamp].fit(X_qa)\n",
    "            self.train_losses[timestamp] = train_losses\n",
    "            self.test_losses[timestamp] = test_losses\n",
    "        print('model training complete')\n",
    "\n",
    "    '''\n",
    "    params:\n",
    "        - X_dict: keys are timestamps, values are prediction data for timestamp\n",
    "    return:\n",
    "        - predictions: dict with keys as timestamps, values as list of tuples of predicted class and QA class value\n",
    "    '''\n",
    "    def predict(self, X_dict):\n",
    "        predictions = {}\n",
    "        for timestamp, X in X_dict.items():\n",
    "            pred = self.timestamp_models[timestamp].predict(X)\n",
    "            qa_pred = self.qa_models[timestamp].predict(X)\n",
    "            predictions[timestamp] = list(zip(pred, qa_pred))\n",
    "        return predictions\n",
    "    \n",
    "    def test_preparation(self, X_test, Y_test, batch_sizes):\n",
    "        featuresTest = torch.from_numpy(X_test)\n",
    "        targetsTest = torch.from_numpy( Y_test).type(torch.LongTensor) \n",
    "        test = TensorDataset(featuresTest,targetsTest)\n",
    "        test_loader = torch.utils.data.DataLoader(test, batch_size=batch_sizes, shuffle=False)\n",
    "        return test_loader\n",
    "    \n",
    "    def score(self, X_test_dict, Y_test_dict):\n",
    "        device = torch.device(\"cuda\" if torch.cuda.is_available() else \"cpu\")\n",
    "        for timestamp in X_test_dict.keys():\n",
    "            with torch.no_grad():\n",
    "                # train_loader,test_loader = LSTM_Training.data_preparation(X_test_dict[timestamp],Y_test_dict[timestamp],self.model_parameters['batch_sizes'])\n",
    "                test_loader = self.test_preparation(X_test_dict[timestamp],Y_test_dict[timestamp],self.model_parameters['batch_sizes'])\n",
    "                correct = 0\n",
    "                total = 0\n",
    "                for inputs, targets in test_loader:\n",
    "                    inputs = inputs.double().to(device)\n",
    "                    targets = targets.to(device)\n",
    "                    outputs = self.timestamp_models[timestamp](inputs)\n",
    "                    _, predicted = torch.max(outputs.data, 1)\n",
    "                    total += targets.size(0)\n",
    "                    correct += (predicted == targets).sum().item()\n",
    "            \n",
    "            self.scores[timestamp] = (100 * correct / total)\n",
    "            print(f\"Test accuracy of model at timestamp {timestamp}: {(100 * correct / total):.2f}%\") \n",
    "\n",
    "    def save_models(self, dir):\n",
    "        for timestamp in self.timestamp_models.keys():\n",
    "            print(f'writing models for timestamp {timestamp}...')\n",
    "            timestamp_filename = f'{dir}/timestamp_model_{str(timestamp)}.pth'\n",
    "            qa_filename = f'{dir}/qa_model_{str(timestamp)}.joblib'\n",
    "            torch.save(self.timestamp_models[timestamp].state_dict(), timestamp_filename)\n",
    "            joblib.dump(self.qa_models[timestamp], qa_filename)\n",
    "        print('model writing complete')\n",
    "        "
   ]
  },
  {
   "attachments": {},
   "cell_type": "markdown",
   "metadata": {},
   "source": [
    "## Baseline Modeling\n",
    "- logistic regression\n",
    "- light GBM\n",
    "- xgboost"
   ]
  },
  {
   "cell_type": "code",
   "execution_count": null,
   "metadata": {},
   "outputs": [],
   "source": [
    "X_flat_train, X_flat_test, Y_flat_train, Y_flat_test = train_test_split(X_tmp, Y_tmp, test_size=0.2, random_state=42)\n",
    "\n",
    "X_flat_test_dict = {}\n",
    "Y_flat_test_dict = {}\n",
    "\n",
    "for i, timestamp in enumerate(np.arange(60000, 1260000, 60000)):\n",
    "    X_flat_test_dict[timestamp] = X_flat_test[X_flat_test[:,0] <= timestamp,:]\n",
    "    Y_flat_test_dict[timestamp] = Y_flat_test[X_flat[:,0] <= timestamp]\n",
    "    print(f'timestamp: {timestamp}, X test shape: {X_flat_test_dict[timestamp].shape}')\n"
   ]
  },
  {
   "cell_type": "code",
   "execution_count": null,
   "metadata": {},
   "outputs": [],
   "source": [
    "def score(model, X_test_dict, Y_test_dict):\n",
    "    scoring = {}\n",
    "    for timestamp in X_test_dict.keys():\n",
    "        scoring[timestamp] = model.score(X_test_dict[timestamp], Y_test_dict[timestamp])\n",
    "    return scoring"
   ]
  },
  {
   "cell_type": "code",
   "execution_count": null,
   "metadata": {},
   "outputs": [],
   "source": []
  },
  {
   "attachments": {},
   "cell_type": "markdown",
   "metadata": {},
   "source": [
    "## Testing"
   ]
  },
  {
   "attachments": {},
   "cell_type": "markdown",
   "metadata": {},
   "source": [
    "### Light GBM"
   ]
  },
  {
   "cell_type": "code",
   "execution_count": 98,
   "metadata": {},
   "outputs": [],
   "source": [
    "# sub_model = XGBClassifier()\n",
    "sub_model = LGBMClassifier()\n",
    "# xgbEarlyClassifier = EarlyClassifier(sub_model)\n",
    "lgbmEarlyClassifier = EarlyClassifier(sub_model)"
   ]
  },
  {
   "cell_type": "code",
   "execution_count": 99,
   "metadata": {},
   "outputs": [
    {
     "name": "stdout",
     "output_type": "stream",
     "text": [
      "Training model at timestamp 60000...\n",
      "Training model at timestamp 120000...\n",
      "Training model at timestamp 180000...\n",
      "Training model at timestamp 240000...\n",
      "Training model at timestamp 300000...\n",
      "Training model at timestamp 360000...\n",
      "Training model at timestamp 420000...\n",
      "Training model at timestamp 480000...\n",
      "Training model at timestamp 540000...\n",
      "Training model at timestamp 600000...\n",
      "Training model at timestamp 660000...\n",
      "Training model at timestamp 720000...\n",
      "Training model at timestamp 780000...\n",
      "Training model at timestamp 840000...\n",
      "Training model at timestamp 900000...\n",
      "Training model at timestamp 960000...\n",
      "Training model at timestamp 1020000...\n",
      "Training model at timestamp 1080000...\n",
      "Training model at timestamp 1140000...\n",
      "Training model at timestamp 1200000...\n",
      "model training complete\n"
     ]
    }
   ],
   "source": [
    "lgbmEarlyClassifier.fit(X_flat_train_dict, Y_flat_train_dict)"
   ]
  },
  {
   "cell_type": "code",
   "execution_count": 102,
   "metadata": {},
   "outputs": [
    {
     "name": "stdout",
     "output_type": "stream",
     "text": [
      "model score at timestamp 60000: 0.5103906899418121\n",
      "model score at timestamp 120000: 0.5271518285925378\n",
      "model score at timestamp 180000: 0.5242449431975617\n",
      "model score at timestamp 240000: 0.5397916204832631\n",
      "model score at timestamp 300000: 0.5598041932206521\n",
      "model score at timestamp 360000: 0.5718470429894703\n",
      "model score at timestamp 420000: 0.5783458021612635\n",
      "model score at timestamp 480000: 0.5926724137931034\n",
      "model score at timestamp 540000: 0.6049102194635336\n",
      "model score at timestamp 600000: 0.6171091742657061\n",
      "model score at timestamp 660000: 0.6235625548422852\n",
      "model score at timestamp 720000: 0.6312558615397732\n",
      "model score at timestamp 780000: 0.6416752434486581\n",
      "model score at timestamp 840000: 0.6465676494494939\n",
      "model score at timestamp 900000: 0.6592428388348169\n",
      "model score at timestamp 960000: 0.6647432762836186\n",
      "model score at timestamp 1020000: 0.670012315270936\n",
      "model score at timestamp 1080000: 0.6814840742037102\n",
      "model score at timestamp 1140000: 0.6836067390822435\n",
      "model score at timestamp 1200000: 0.6937429076610456\n"
     ]
    }
   ],
   "source": [
    "lgbmEarlyClassifier.score(X_flat_test_dict, Y_flat_test_dict)"
   ]
  },
  {
   "cell_type": "code",
   "execution_count": 103,
   "metadata": {},
   "outputs": [
    {
     "name": "stdout",
     "output_type": "stream",
     "text": [
      "writing models for timestamp 60000...\n",
      "writing models for timestamp 120000...\n",
      "writing models for timestamp 180000...\n",
      "writing models for timestamp 240000...\n",
      "writing models for timestamp 300000...\n",
      "writing models for timestamp 360000...\n",
      "writing models for timestamp 420000...\n",
      "writing models for timestamp 480000...\n",
      "writing models for timestamp 540000...\n",
      "writing models for timestamp 600000...\n",
      "writing models for timestamp 660000...\n",
      "writing models for timestamp 720000...\n",
      "writing models for timestamp 780000...\n",
      "writing models for timestamp 840000...\n",
      "writing models for timestamp 900000...\n",
      "writing models for timestamp 960000...\n",
      "writing models for timestamp 1020000...\n",
      "writing models for timestamp 1080000...\n",
      "writing models for timestamp 1140000...\n",
      "writing models for timestamp 1200000...\n",
      "model writing complete\n"
     ]
    }
   ],
   "source": [
    "lgbmEarlyClassifier.save_models('models/lgbm')"
   ]
  },
  {
   "attachments": {},
   "cell_type": "markdown",
   "metadata": {},
   "source": [
    "### XGBoost"
   ]
  },
  {
   "cell_type": "code",
   "execution_count": 104,
   "metadata": {},
   "outputs": [],
   "source": [
    "sub_model = XGBClassifier()\n",
    "# sub_model = LGBMClassifier()\n",
    "xgbEarlyClassifier = EarlyClassifier(sub_model)\n",
    "# lgbmEarlyClassifier = EarlyClassifier(sub_model)"
   ]
  },
  {
   "cell_type": "code",
   "execution_count": 105,
   "metadata": {},
   "outputs": [
    {
     "name": "stdout",
     "output_type": "stream",
     "text": [
      "Training model at timestamp 60000...\n",
      "Training model at timestamp 120000...\n",
      "Training model at timestamp 180000...\n",
      "Training model at timestamp 240000...\n",
      "Training model at timestamp 300000...\n",
      "Training model at timestamp 360000...\n",
      "Training model at timestamp 420000...\n",
      "Training model at timestamp 480000...\n",
      "Training model at timestamp 540000...\n",
      "Training model at timestamp 600000...\n",
      "Training model at timestamp 660000...\n",
      "Training model at timestamp 720000...\n",
      "Training model at timestamp 780000...\n",
      "Training model at timestamp 840000...\n",
      "Training model at timestamp 900000...\n",
      "Training model at timestamp 960000...\n",
      "Training model at timestamp 1020000...\n",
      "Training model at timestamp 1080000...\n",
      "Training model at timestamp 1140000...\n",
      "Training model at timestamp 1200000...\n",
      "model training complete\n"
     ]
    }
   ],
   "source": [
    "xgbEarlyClassifier.fit(X_flat_train_dict, Y_flat_train_dict)"
   ]
  },
  {
   "cell_type": "code",
   "execution_count": 106,
   "metadata": {},
   "outputs": [
    {
     "name": "stdout",
     "output_type": "stream",
     "text": [
      "model score at timestamp 60000: 0.5092823496813522\n",
      "model score at timestamp 120000: 0.5216106390838566\n",
      "model score at timestamp 180000: 0.527431421446384\n",
      "model score at timestamp 240000: 0.5305918864996675\n",
      "model score at timestamp 300000: 0.5539854068532373\n",
      "model score at timestamp 360000: 0.5641675243448658\n",
      "model score at timestamp 420000: 0.5803546688833472\n",
      "model score at timestamp 480000: 0.5939655172413794\n",
      "model score at timestamp 540000: 0.6035801374418089\n",
      "model score at timestamp 600000: 0.6149428182779989\n",
      "model score at timestamp 660000: 0.628273218491664\n",
      "model score at timestamp 720000: 0.634921988234291\n",
      "model score at timestamp 780000: 0.646544216609928\n",
      "model score at timestamp 840000: 0.6488583462646863\n",
      "model score at timestamp 900000: 0.663780263932666\n",
      "model score at timestamp 960000: 0.6681010594947026\n",
      "model score at timestamp 1020000: 0.6773399014778325\n",
      "model score at timestamp 1080000: 0.6869968498424921\n",
      "model score at timestamp 1140000: 0.6942196852139215\n",
      "model score at timestamp 1200000: 0.7018182777821761\n"
     ]
    }
   ],
   "source": [
    "xgbEarlyClassifier.score(X_flat_test_dict, Y_flat_test_dict)"
   ]
  },
  {
   "cell_type": "code",
   "execution_count": 107,
   "metadata": {},
   "outputs": [
    {
     "name": "stdout",
     "output_type": "stream",
     "text": [
      "writing models for timestamp 60000...\n",
      "writing models for timestamp 120000...\n",
      "writing models for timestamp 180000...\n",
      "writing models for timestamp 240000...\n",
      "writing models for timestamp 300000...\n",
      "writing models for timestamp 360000...\n",
      "writing models for timestamp 420000...\n",
      "writing models for timestamp 480000...\n",
      "writing models for timestamp 540000...\n",
      "writing models for timestamp 600000...\n",
      "writing models for timestamp 660000...\n",
      "writing models for timestamp 720000...\n",
      "writing models for timestamp 780000...\n",
      "writing models for timestamp 840000...\n",
      "writing models for timestamp 900000...\n",
      "writing models for timestamp 960000...\n",
      "writing models for timestamp 1020000...\n",
      "writing models for timestamp 1080000...\n",
      "writing models for timestamp 1140000...\n",
      "writing models for timestamp 1200000...\n",
      "model writing complete\n"
     ]
    }
   ],
   "source": [
    "xgbEarlyClassifier.save_models('models/xgb')"
   ]
  },
  {
   "attachments": {},
   "cell_type": "markdown",
   "metadata": {},
   "source": [
    "### LSTM"
   ]
  },
  {
   "cell_type": "code",
   "execution_count": 116,
   "metadata": {},
   "outputs": [],
   "source": [
    "with open('LSTM_Training_Parameter.json') as json_file:\n",
    "    model_parameters = json.load(json_file)\n",
    "lstmEarlyClassifier = LSTMEarlyClassifier(model_parameters)"
   ]
  },
  {
   "cell_type": "code",
   "execution_count": 117,
   "metadata": {},
   "outputs": [
    {
     "name": "stdout",
     "output_type": "stream",
     "text": [
      "Training model at timestamp 60000...\n",
      "Epoch 1/20: train loss=0.6944, test loss=0.6933\n",
      "Epoch 2/20: train loss=0.6922, test loss=0.6937\n",
      "Epoch 3/20: train loss=0.6929, test loss=0.6928\n",
      "Epoch 4/20: train loss=0.6924, test loss=0.6932\n",
      "Epoch 5/20: train loss=0.6926, test loss=0.6932\n",
      "Epoch 6/20: train loss=0.6922, test loss=0.6929\n",
      "Epoch 7/20: train loss=0.6917, test loss=0.6930\n",
      "Epoch 8/20: train loss=0.6925, test loss=0.6930\n",
      "Epoch 9/20: train loss=0.6918, test loss=0.6932\n",
      "Epoch 10/20: train loss=0.6922, test loss=0.6928\n",
      "Epoch 11/20: train loss=0.6920, test loss=0.6932\n",
      "Epoch 12/20: train loss=0.6918, test loss=0.6929\n",
      "Epoch 13/20: train loss=0.6921, test loss=0.6945\n",
      "Epoch 14/20: train loss=0.6916, test loss=0.6929\n",
      "Epoch 15/20: train loss=0.6923, test loss=0.6930\n",
      "Epoch 16/20: train loss=0.6914, test loss=0.6926\n",
      "Epoch 17/20: train loss=0.6915, test loss=0.6929\n",
      "Epoch 18/20: train loss=0.6913, test loss=0.6937\n",
      "Epoch 19/20: train loss=0.6914, test loss=0.6929\n",
      "Epoch 20/20: train loss=0.6915, test loss=0.6928\n"
     ]
    },
    {
     "name": "stderr",
     "output_type": "stream",
     "text": [
      "C:\\Users\\kdai1\\AppData\\Local\\Temp\\ipykernel_31136\\1218677327.py:29: UserWarning: indexing with dtype torch.uint8 is now deprecated, please use a dtype torch.bool instead. (Triggered internally at ..\\aten\\src\\ATen/native/IndexingUtils.h:28.)\n",
      "  c = c[correct_pred].detach().numpy()\n",
      "C:\\Users\\kdai1\\AppData\\Local\\Temp\\ipykernel_31136\\1218677327.py:30: UserWarning: indexing with dtype torch.uint8 is now deprecated, please use a dtype torch.bool instead. (Triggered internally at ..\\aten\\src\\ATen/native/IndexingUtils.h:28.)\n",
      "  P = P[correct_pred].detach().numpy()\n"
     ]
    },
    {
     "name": "stdout",
     "output_type": "stream",
     "text": [
      "Training model at timestamp 120000...\n",
      "Epoch 1/20: train loss=0.6928, test loss=0.6935\n",
      "Epoch 2/20: train loss=0.6912, test loss=0.6915\n",
      "Epoch 3/20: train loss=0.6907, test loss=0.6917\n",
      "Epoch 4/20: train loss=0.6903, test loss=0.6916\n",
      "Epoch 5/20: train loss=0.6900, test loss=0.6913\n",
      "Epoch 6/20: train loss=0.6894, test loss=0.6912\n",
      "Epoch 7/20: train loss=0.6896, test loss=0.6910\n",
      "Epoch 8/20: train loss=0.6890, test loss=0.6920\n",
      "Epoch 9/20: train loss=0.6889, test loss=0.6917\n",
      "Epoch 10/20: train loss=0.6896, test loss=0.6914\n",
      "Epoch 11/20: train loss=0.6889, test loss=0.6911\n",
      "Epoch 12/20: train loss=0.6887, test loss=0.6912\n",
      "Epoch 13/20: train loss=0.6899, test loss=0.6922\n",
      "Epoch 14/20: train loss=0.6889, test loss=0.6912\n",
      "Epoch 15/20: train loss=0.6883, test loss=0.6909\n",
      "Epoch 16/20: train loss=0.6882, test loss=0.6939\n",
      "Epoch 17/20: train loss=0.6884, test loss=0.6919\n",
      "Epoch 18/20: train loss=0.6891, test loss=0.6918\n",
      "Epoch 19/20: train loss=0.6884, test loss=0.6918\n",
      "Epoch 20/20: train loss=0.6890, test loss=0.6921\n"
     ]
    },
    {
     "name": "stderr",
     "output_type": "stream",
     "text": [
      "C:\\Users\\kdai1\\AppData\\Local\\Temp\\ipykernel_31136\\1218677327.py:29: UserWarning: indexing with dtype torch.uint8 is now deprecated, please use a dtype torch.bool instead. (Triggered internally at ..\\aten\\src\\ATen/native/IndexingUtils.h:28.)\n",
      "  c = c[correct_pred].detach().numpy()\n",
      "C:\\Users\\kdai1\\AppData\\Local\\Temp\\ipykernel_31136\\1218677327.py:30: UserWarning: indexing with dtype torch.uint8 is now deprecated, please use a dtype torch.bool instead. (Triggered internally at ..\\aten\\src\\ATen/native/IndexingUtils.h:28.)\n",
      "  P = P[correct_pred].detach().numpy()\n"
     ]
    },
    {
     "name": "stdout",
     "output_type": "stream",
     "text": [
      "Training model at timestamp 180000...\n",
      "Epoch 1/20: train loss=0.6905, test loss=0.6940\n",
      "Epoch 2/20: train loss=0.6866, test loss=0.6875\n",
      "Epoch 3/20: train loss=0.6847, test loss=0.6852\n",
      "Epoch 4/20: train loss=0.6842, test loss=0.6855\n",
      "Epoch 5/20: train loss=0.6847, test loss=0.6858\n",
      "Epoch 6/20: train loss=0.6852, test loss=0.6855\n",
      "Epoch 7/20: train loss=0.6818, test loss=0.6837\n",
      "Epoch 8/20: train loss=0.6828, test loss=0.6839\n",
      "Epoch 9/20: train loss=0.6818, test loss=0.6920\n",
      "Epoch 10/20: train loss=0.6816, test loss=0.6835\n",
      "Epoch 11/20: train loss=0.6811, test loss=0.6832\n",
      "Epoch 12/20: train loss=0.6810, test loss=0.6837\n",
      "Epoch 13/20: train loss=0.6809, test loss=0.6830\n",
      "Epoch 14/20: train loss=0.6809, test loss=0.6825\n",
      "Epoch 15/20: train loss=0.6806, test loss=0.6898\n",
      "Epoch 16/20: train loss=0.6811, test loss=0.6826\n",
      "Epoch 17/20: train loss=0.6805, test loss=0.6823\n",
      "Epoch 18/20: train loss=0.6799, test loss=0.6838\n",
      "Epoch 19/20: train loss=0.6811, test loss=0.6846\n",
      "Epoch 20/20: train loss=0.6814, test loss=0.6840\n"
     ]
    },
    {
     "name": "stderr",
     "output_type": "stream",
     "text": [
      "C:\\Users\\kdai1\\AppData\\Local\\Temp\\ipykernel_31136\\1218677327.py:29: UserWarning: indexing with dtype torch.uint8 is now deprecated, please use a dtype torch.bool instead. (Triggered internally at ..\\aten\\src\\ATen/native/IndexingUtils.h:28.)\n",
      "  c = c[correct_pred].detach().numpy()\n",
      "C:\\Users\\kdai1\\AppData\\Local\\Temp\\ipykernel_31136\\1218677327.py:30: UserWarning: indexing with dtype torch.uint8 is now deprecated, please use a dtype torch.bool instead. (Triggered internally at ..\\aten\\src\\ATen/native/IndexingUtils.h:28.)\n",
      "  P = P[correct_pred].detach().numpy()\n"
     ]
    },
    {
     "name": "stdout",
     "output_type": "stream",
     "text": [
      "Training model at timestamp 240000...\n",
      "Epoch 1/20: train loss=0.6793, test loss=0.6797\n",
      "Epoch 2/20: train loss=0.6761, test loss=0.6797\n",
      "Epoch 3/20: train loss=0.6729, test loss=0.6770\n",
      "Epoch 4/20: train loss=0.6730, test loss=0.6791\n",
      "Epoch 5/20: train loss=0.6710, test loss=0.6743\n",
      "Epoch 6/20: train loss=0.6700, test loss=0.6749\n",
      "Epoch 7/20: train loss=0.6693, test loss=0.6715\n",
      "Epoch 8/20: train loss=0.6665, test loss=0.6790\n",
      "Epoch 9/20: train loss=0.6671, test loss=0.6774\n",
      "Epoch 10/20: train loss=0.6692, test loss=0.6733\n",
      "Epoch 11/20: train loss=0.6675, test loss=0.6723\n",
      "Epoch 12/20: train loss=0.6675, test loss=0.6770\n",
      "Epoch 13/20: train loss=0.6647, test loss=0.6727\n",
      "Epoch 14/20: train loss=0.6651, test loss=0.6713\n",
      "Epoch 15/20: train loss=0.6664, test loss=0.6723\n",
      "Epoch 16/20: train loss=0.6627, test loss=0.6720\n",
      "Epoch 17/20: train loss=0.6670, test loss=0.6733\n",
      "Epoch 18/20: train loss=0.6682, test loss=0.6767\n",
      "Epoch 19/20: train loss=0.6676, test loss=0.6726\n",
      "Epoch 20/20: train loss=0.6642, test loss=0.6717\n"
     ]
    },
    {
     "name": "stderr",
     "output_type": "stream",
     "text": [
      "C:\\Users\\kdai1\\AppData\\Local\\Temp\\ipykernel_31136\\1218677327.py:29: UserWarning: indexing with dtype torch.uint8 is now deprecated, please use a dtype torch.bool instead. (Triggered internally at ..\\aten\\src\\ATen/native/IndexingUtils.h:28.)\n",
      "  c = c[correct_pred].detach().numpy()\n",
      "C:\\Users\\kdai1\\AppData\\Local\\Temp\\ipykernel_31136\\1218677327.py:30: UserWarning: indexing with dtype torch.uint8 is now deprecated, please use a dtype torch.bool instead. (Triggered internally at ..\\aten\\src\\ATen/native/IndexingUtils.h:28.)\n",
      "  P = P[correct_pred].detach().numpy()\n"
     ]
    },
    {
     "name": "stdout",
     "output_type": "stream",
     "text": [
      "Training model at timestamp 300000...\n",
      "Epoch 1/20: train loss=0.6880, test loss=0.6845\n",
      "Epoch 2/20: train loss=0.6783, test loss=0.6778\n",
      "Epoch 3/20: train loss=0.6729, test loss=0.6828\n",
      "Epoch 4/20: train loss=0.6734, test loss=0.6789\n",
      "Epoch 5/20: train loss=0.6742, test loss=0.6733\n",
      "Epoch 6/20: train loss=0.6676, test loss=0.6772\n",
      "Epoch 7/20: train loss=0.6682, test loss=0.6878\n",
      "Epoch 8/20: train loss=0.6711, test loss=0.6755\n",
      "Epoch 9/20: train loss=0.6686, test loss=0.6781\n",
      "Epoch 10/20: train loss=0.6672, test loss=0.6677\n",
      "Epoch 11/20: train loss=0.6647, test loss=0.6687\n",
      "Epoch 12/20: train loss=0.6639, test loss=0.6678\n",
      "Epoch 13/20: train loss=0.6618, test loss=0.6688\n",
      "Epoch 14/20: train loss=0.6636, test loss=0.6707\n",
      "Epoch 15/20: train loss=0.6602, test loss=0.6698\n",
      "Epoch 16/20: train loss=0.6604, test loss=0.6650\n",
      "Epoch 17/20: train loss=0.6615, test loss=0.6627\n",
      "Epoch 18/20: train loss=0.6561, test loss=0.6661\n",
      "Epoch 19/20: train loss=0.6579, test loss=0.6619\n",
      "Epoch 20/20: train loss=0.6592, test loss=0.6629\n"
     ]
    },
    {
     "name": "stderr",
     "output_type": "stream",
     "text": [
      "C:\\Users\\kdai1\\AppData\\Local\\Temp\\ipykernel_31136\\1218677327.py:29: UserWarning: indexing with dtype torch.uint8 is now deprecated, please use a dtype torch.bool instead. (Triggered internally at ..\\aten\\src\\ATen/native/IndexingUtils.h:28.)\n",
      "  c = c[correct_pred].detach().numpy()\n",
      "C:\\Users\\kdai1\\AppData\\Local\\Temp\\ipykernel_31136\\1218677327.py:30: UserWarning: indexing with dtype torch.uint8 is now deprecated, please use a dtype torch.bool instead. (Triggered internally at ..\\aten\\src\\ATen/native/IndexingUtils.h:28.)\n",
      "  P = P[correct_pred].detach().numpy()\n"
     ]
    },
    {
     "name": "stdout",
     "output_type": "stream",
     "text": [
      "Training model at timestamp 360000...\n",
      "Epoch 1/20: train loss=0.6852, test loss=0.6780\n",
      "Epoch 2/20: train loss=0.6733, test loss=0.6785\n",
      "Epoch 3/20: train loss=0.6740, test loss=0.6838\n",
      "Epoch 4/20: train loss=0.6685, test loss=0.6741\n",
      "Epoch 5/20: train loss=0.6676, test loss=0.6701\n",
      "Epoch 6/20: train loss=0.6636, test loss=0.6685\n",
      "Epoch 7/20: train loss=0.6628, test loss=0.6737\n",
      "Epoch 8/20: train loss=0.6631, test loss=0.6659\n",
      "Epoch 9/20: train loss=0.6572, test loss=0.6770\n",
      "Epoch 10/20: train loss=0.6593, test loss=0.6751\n",
      "Epoch 11/20: train loss=0.6657, test loss=0.6629\n",
      "Epoch 12/20: train loss=0.6571, test loss=0.6651\n",
      "Epoch 13/20: train loss=0.6541, test loss=0.6638\n",
      "Epoch 14/20: train loss=0.6561, test loss=0.6648\n",
      "Epoch 15/20: train loss=0.6569, test loss=0.6658\n",
      "Epoch 16/20: train loss=0.6566, test loss=0.6588\n",
      "Epoch 17/20: train loss=0.6541, test loss=0.6597\n",
      "Epoch 18/20: train loss=0.6503, test loss=0.6613\n",
      "Epoch 19/20: train loss=0.6547, test loss=0.6655\n",
      "Epoch 20/20: train loss=0.6522, test loss=0.6682\n"
     ]
    },
    {
     "name": "stderr",
     "output_type": "stream",
     "text": [
      "C:\\Users\\kdai1\\AppData\\Local\\Temp\\ipykernel_31136\\1218677327.py:29: UserWarning: indexing with dtype torch.uint8 is now deprecated, please use a dtype torch.bool instead. (Triggered internally at ..\\aten\\src\\ATen/native/IndexingUtils.h:28.)\n",
      "  c = c[correct_pred].detach().numpy()\n",
      "C:\\Users\\kdai1\\AppData\\Local\\Temp\\ipykernel_31136\\1218677327.py:30: UserWarning: indexing with dtype torch.uint8 is now deprecated, please use a dtype torch.bool instead. (Triggered internally at ..\\aten\\src\\ATen/native/IndexingUtils.h:28.)\n",
      "  P = P[correct_pred].detach().numpy()\n"
     ]
    },
    {
     "name": "stdout",
     "output_type": "stream",
     "text": [
      "Training model at timestamp 420000...\n",
      "Epoch 1/20: train loss=0.6792, test loss=0.6775\n",
      "Epoch 2/20: train loss=0.6712, test loss=0.6714\n",
      "Epoch 3/20: train loss=0.6666, test loss=0.6706\n",
      "Epoch 4/20: train loss=0.6612, test loss=0.6730\n",
      "Epoch 5/20: train loss=0.6593, test loss=0.6678\n",
      "Epoch 6/20: train loss=0.6554, test loss=0.6569\n",
      "Epoch 7/20: train loss=0.6549, test loss=0.6671\n",
      "Epoch 8/20: train loss=0.6558, test loss=0.6586\n",
      "Epoch 9/20: train loss=0.6518, test loss=0.6686\n",
      "Epoch 10/20: train loss=0.6605, test loss=0.6643\n",
      "Epoch 11/20: train loss=0.6541, test loss=0.6552\n",
      "Epoch 12/20: train loss=0.6463, test loss=0.6568\n",
      "Epoch 13/20: train loss=0.6428, test loss=0.6592\n",
      "Epoch 14/20: train loss=0.6467, test loss=0.6560\n",
      "Epoch 15/20: train loss=0.6454, test loss=0.6582\n",
      "Epoch 16/20: train loss=0.6459, test loss=0.6560\n",
      "Epoch 17/20: train loss=0.6473, test loss=0.6535\n",
      "Epoch 18/20: train loss=0.6463, test loss=0.6571\n",
      "Epoch 19/20: train loss=0.6456, test loss=0.6563\n",
      "Epoch 20/20: train loss=0.6432, test loss=0.6534\n"
     ]
    },
    {
     "name": "stderr",
     "output_type": "stream",
     "text": [
      "C:\\Users\\kdai1\\AppData\\Local\\Temp\\ipykernel_31136\\1218677327.py:29: UserWarning: indexing with dtype torch.uint8 is now deprecated, please use a dtype torch.bool instead. (Triggered internally at ..\\aten\\src\\ATen/native/IndexingUtils.h:28.)\n",
      "  c = c[correct_pred].detach().numpy()\n",
      "C:\\Users\\kdai1\\AppData\\Local\\Temp\\ipykernel_31136\\1218677327.py:30: UserWarning: indexing with dtype torch.uint8 is now deprecated, please use a dtype torch.bool instead. (Triggered internally at ..\\aten\\src\\ATen/native/IndexingUtils.h:28.)\n",
      "  P = P[correct_pred].detach().numpy()\n"
     ]
    },
    {
     "name": "stdout",
     "output_type": "stream",
     "text": [
      "Training model at timestamp 480000...\n",
      "Epoch 1/20: train loss=0.6785, test loss=0.6751\n",
      "Epoch 2/20: train loss=0.6638, test loss=0.6667\n",
      "Epoch 3/20: train loss=0.6597, test loss=0.6630\n",
      "Epoch 4/20: train loss=0.6584, test loss=0.6676\n",
      "Epoch 5/20: train loss=0.6593, test loss=0.6727\n",
      "Epoch 6/20: train loss=0.6607, test loss=0.6675\n",
      "Epoch 7/20: train loss=0.6492, test loss=0.6570\n",
      "Epoch 8/20: train loss=0.6496, test loss=0.6643\n",
      "Epoch 9/20: train loss=0.6481, test loss=0.6487\n",
      "Epoch 10/20: train loss=0.6455, test loss=0.6595\n",
      "Epoch 11/20: train loss=0.6480, test loss=0.6592\n",
      "Epoch 12/20: train loss=0.6430, test loss=0.6474\n",
      "Epoch 13/20: train loss=0.6386, test loss=0.6533\n",
      "Epoch 14/20: train loss=0.6434, test loss=0.6535\n",
      "Epoch 15/20: train loss=0.6409, test loss=0.6556\n",
      "Epoch 16/20: train loss=0.6397, test loss=0.6483\n",
      "Epoch 17/20: train loss=0.6371, test loss=0.6497\n",
      "Epoch 18/20: train loss=0.6377, test loss=0.6557\n",
      "Epoch 19/20: train loss=0.6378, test loss=0.6497\n",
      "Epoch 20/20: train loss=0.6391, test loss=0.6418\n"
     ]
    },
    {
     "name": "stderr",
     "output_type": "stream",
     "text": [
      "C:\\Users\\kdai1\\AppData\\Local\\Temp\\ipykernel_31136\\1218677327.py:29: UserWarning: indexing with dtype torch.uint8 is now deprecated, please use a dtype torch.bool instead. (Triggered internally at ..\\aten\\src\\ATen/native/IndexingUtils.h:28.)\n",
      "  c = c[correct_pred].detach().numpy()\n",
      "C:\\Users\\kdai1\\AppData\\Local\\Temp\\ipykernel_31136\\1218677327.py:30: UserWarning: indexing with dtype torch.uint8 is now deprecated, please use a dtype torch.bool instead. (Triggered internally at ..\\aten\\src\\ATen/native/IndexingUtils.h:28.)\n",
      "  P = P[correct_pred].detach().numpy()\n"
     ]
    },
    {
     "name": "stdout",
     "output_type": "stream",
     "text": [
      "Training model at timestamp 540000...\n",
      "Epoch 1/20: train loss=0.6776, test loss=0.6761\n",
      "Epoch 2/20: train loss=0.6641, test loss=0.6661\n",
      "Epoch 3/20: train loss=0.6615, test loss=0.6656\n",
      "Epoch 4/20: train loss=0.6572, test loss=0.6615\n",
      "Epoch 5/20: train loss=0.6560, test loss=0.6715\n",
      "Epoch 6/20: train loss=0.6534, test loss=0.6493\n",
      "Epoch 7/20: train loss=0.6436, test loss=0.6628\n",
      "Epoch 8/20: train loss=0.6506, test loss=0.6589\n",
      "Epoch 9/20: train loss=0.6504, test loss=0.6523\n",
      "Epoch 10/20: train loss=0.6426, test loss=0.6587\n",
      "Epoch 11/20: train loss=0.6440, test loss=0.6520\n",
      "Epoch 12/20: train loss=0.6418, test loss=0.6470\n",
      "Epoch 13/20: train loss=0.6374, test loss=0.6498\n",
      "Epoch 14/20: train loss=0.6385, test loss=0.6454\n",
      "Epoch 15/20: train loss=0.6382, test loss=0.6438\n",
      "Epoch 16/20: train loss=0.6358, test loss=0.6432\n",
      "Epoch 17/20: train loss=0.6352, test loss=0.6476\n",
      "Epoch 18/20: train loss=0.6346, test loss=0.6552\n",
      "Epoch 19/20: train loss=0.6346, test loss=0.6534\n",
      "Epoch 20/20: train loss=0.6341, test loss=0.6439\n"
     ]
    },
    {
     "name": "stderr",
     "output_type": "stream",
     "text": [
      "C:\\Users\\kdai1\\AppData\\Local\\Temp\\ipykernel_31136\\1218677327.py:29: UserWarning: indexing with dtype torch.uint8 is now deprecated, please use a dtype torch.bool instead. (Triggered internally at ..\\aten\\src\\ATen/native/IndexingUtils.h:28.)\n",
      "  c = c[correct_pred].detach().numpy()\n",
      "C:\\Users\\kdai1\\AppData\\Local\\Temp\\ipykernel_31136\\1218677327.py:30: UserWarning: indexing with dtype torch.uint8 is now deprecated, please use a dtype torch.bool instead. (Triggered internally at ..\\aten\\src\\ATen/native/IndexingUtils.h:28.)\n",
      "  P = P[correct_pred].detach().numpy()\n"
     ]
    },
    {
     "name": "stdout",
     "output_type": "stream",
     "text": [
      "Training model at timestamp 600000...\n",
      "Epoch 1/20: train loss=0.6737, test loss=0.6766\n",
      "Epoch 2/20: train loss=0.6609, test loss=0.6718\n",
      "Epoch 3/20: train loss=0.6545, test loss=0.6616\n",
      "Epoch 4/20: train loss=0.6526, test loss=0.6575\n",
      "Epoch 5/20: train loss=0.6539, test loss=0.6552\n",
      "Epoch 6/20: train loss=0.6474, test loss=0.6528\n",
      "Epoch 7/20: train loss=0.6443, test loss=0.6543\n",
      "Epoch 8/20: train loss=0.6449, test loss=0.6472\n",
      "Epoch 9/20: train loss=0.6406, test loss=0.6484\n",
      "Epoch 10/20: train loss=0.6357, test loss=0.6412\n",
      "Epoch 11/20: train loss=0.6334, test loss=0.6485\n",
      "Epoch 12/20: train loss=0.6319, test loss=0.6575\n",
      "Epoch 13/20: train loss=0.6362, test loss=0.6421\n",
      "Epoch 14/20: train loss=0.6364, test loss=0.6474\n",
      "Epoch 15/20: train loss=0.6330, test loss=0.6580\n",
      "Epoch 16/20: train loss=0.6416, test loss=0.6375\n",
      "Epoch 17/20: train loss=0.6310, test loss=0.6568\n",
      "Epoch 18/20: train loss=0.6401, test loss=0.6493\n",
      "Epoch 19/20: train loss=0.6341, test loss=0.6458\n",
      "Epoch 20/20: train loss=0.6348, test loss=0.6435\n"
     ]
    },
    {
     "name": "stderr",
     "output_type": "stream",
     "text": [
      "C:\\Users\\kdai1\\AppData\\Local\\Temp\\ipykernel_31136\\1218677327.py:29: UserWarning: indexing with dtype torch.uint8 is now deprecated, please use a dtype torch.bool instead. (Triggered internally at ..\\aten\\src\\ATen/native/IndexingUtils.h:28.)\n",
      "  c = c[correct_pred].detach().numpy()\n",
      "C:\\Users\\kdai1\\AppData\\Local\\Temp\\ipykernel_31136\\1218677327.py:30: UserWarning: indexing with dtype torch.uint8 is now deprecated, please use a dtype torch.bool instead. (Triggered internally at ..\\aten\\src\\ATen/native/IndexingUtils.h:28.)\n",
      "  P = P[correct_pred].detach().numpy()\n"
     ]
    },
    {
     "name": "stdout",
     "output_type": "stream",
     "text": [
      "Training model at timestamp 660000...\n",
      "Epoch 1/20: train loss=0.6786, test loss=0.6712\n",
      "Epoch 2/20: train loss=0.6605, test loss=0.6674\n",
      "Epoch 3/20: train loss=0.6593, test loss=0.6652\n",
      "Epoch 4/20: train loss=0.6553, test loss=0.6612\n",
      "Epoch 5/20: train loss=0.6464, test loss=0.6571\n",
      "Epoch 6/20: train loss=0.6450, test loss=0.6530\n",
      "Epoch 7/20: train loss=0.6472, test loss=0.6512\n",
      "Epoch 8/20: train loss=0.6453, test loss=0.6418\n",
      "Epoch 9/20: train loss=0.6306, test loss=0.6407\n",
      "Epoch 10/20: train loss=0.6368, test loss=0.6376\n",
      "Epoch 11/20: train loss=0.6304, test loss=0.6318\n",
      "Epoch 12/20: train loss=0.6226, test loss=0.6466\n",
      "Epoch 13/20: train loss=0.6297, test loss=0.6397\n",
      "Epoch 14/20: train loss=0.6315, test loss=0.6408\n",
      "Epoch 15/20: train loss=0.6266, test loss=0.6373\n",
      "Epoch 16/20: train loss=0.6211, test loss=0.6419\n",
      "Epoch 17/20: train loss=0.6305, test loss=0.6348\n",
      "Epoch 18/20: train loss=0.6188, test loss=0.6297\n",
      "Epoch 19/20: train loss=0.6227, test loss=0.6410\n",
      "Epoch 20/20: train loss=0.6190, test loss=0.6228\n"
     ]
    },
    {
     "name": "stderr",
     "output_type": "stream",
     "text": [
      "C:\\Users\\kdai1\\AppData\\Local\\Temp\\ipykernel_31136\\1218677327.py:29: UserWarning: indexing with dtype torch.uint8 is now deprecated, please use a dtype torch.bool instead. (Triggered internally at ..\\aten\\src\\ATen/native/IndexingUtils.h:28.)\n",
      "  c = c[correct_pred].detach().numpy()\n",
      "C:\\Users\\kdai1\\AppData\\Local\\Temp\\ipykernel_31136\\1218677327.py:30: UserWarning: indexing with dtype torch.uint8 is now deprecated, please use a dtype torch.bool instead. (Triggered internally at ..\\aten\\src\\ATen/native/IndexingUtils.h:28.)\n",
      "  P = P[correct_pred].detach().numpy()\n"
     ]
    },
    {
     "name": "stdout",
     "output_type": "stream",
     "text": [
      "Training model at timestamp 720000...\n",
      "Epoch 1/20: train loss=0.6720, test loss=0.6725\n",
      "Epoch 2/20: train loss=0.6545, test loss=0.6591\n",
      "Epoch 3/20: train loss=0.6471, test loss=0.6440\n",
      "Epoch 4/20: train loss=0.6394, test loss=0.6451\n",
      "Epoch 5/20: train loss=0.6309, test loss=0.6413\n",
      "Epoch 6/20: train loss=0.6305, test loss=0.6387\n",
      "Epoch 7/20: train loss=0.6220, test loss=0.6389\n",
      "Epoch 8/20: train loss=0.6259, test loss=0.6400\n",
      "Epoch 9/20: train loss=0.6238, test loss=0.6352\n",
      "Epoch 10/20: train loss=0.6185, test loss=0.6526\n",
      "Epoch 11/20: train loss=0.6199, test loss=0.6281\n",
      "Epoch 12/20: train loss=0.6106, test loss=0.6180\n",
      "Epoch 13/20: train loss=0.6035, test loss=0.6186\n",
      "Epoch 14/20: train loss=0.6016, test loss=0.6139\n",
      "Epoch 15/20: train loss=0.6059, test loss=0.6234\n",
      "Epoch 16/20: train loss=0.6106, test loss=0.6364\n",
      "Epoch 17/20: train loss=0.6109, test loss=0.6278\n",
      "Epoch 18/20: train loss=0.6058, test loss=0.6317\n",
      "Epoch 19/20: train loss=0.6077, test loss=0.6159\n",
      "Epoch 20/20: train loss=0.6022, test loss=0.6131\n"
     ]
    },
    {
     "name": "stderr",
     "output_type": "stream",
     "text": [
      "C:\\Users\\kdai1\\AppData\\Local\\Temp\\ipykernel_31136\\1218677327.py:29: UserWarning: indexing with dtype torch.uint8 is now deprecated, please use a dtype torch.bool instead. (Triggered internally at ..\\aten\\src\\ATen/native/IndexingUtils.h:28.)\n",
      "  c = c[correct_pred].detach().numpy()\n",
      "C:\\Users\\kdai1\\AppData\\Local\\Temp\\ipykernel_31136\\1218677327.py:30: UserWarning: indexing with dtype torch.uint8 is now deprecated, please use a dtype torch.bool instead. (Triggered internally at ..\\aten\\src\\ATen/native/IndexingUtils.h:28.)\n",
      "  P = P[correct_pred].detach().numpy()\n"
     ]
    },
    {
     "name": "stdout",
     "output_type": "stream",
     "text": [
      "Training model at timestamp 780000...\n",
      "Epoch 1/20: train loss=0.6756, test loss=0.6742\n",
      "Epoch 2/20: train loss=0.6559, test loss=0.6596\n",
      "Epoch 3/20: train loss=0.6493, test loss=0.6527\n",
      "Epoch 4/20: train loss=0.6348, test loss=0.6448\n",
      "Epoch 5/20: train loss=0.6316, test loss=0.6377\n",
      "Epoch 6/20: train loss=0.6208, test loss=0.6395\n",
      "Epoch 7/20: train loss=0.6210, test loss=0.6357\n",
      "Epoch 8/20: train loss=0.6296, test loss=0.6500\n",
      "Epoch 9/20: train loss=0.6190, test loss=0.6262\n",
      "Epoch 10/20: train loss=0.6158, test loss=0.6391\n",
      "Epoch 11/20: train loss=0.6100, test loss=0.6367\n",
      "Epoch 12/20: train loss=0.6139, test loss=0.6430\n",
      "Epoch 13/20: train loss=0.5999, test loss=0.6143\n",
      "Epoch 14/20: train loss=0.6042, test loss=0.6043\n",
      "Epoch 15/20: train loss=0.6007, test loss=0.6122\n",
      "Epoch 16/20: train loss=0.5973, test loss=0.6498\n",
      "Epoch 17/20: train loss=0.6091, test loss=0.6207\n",
      "Epoch 18/20: train loss=0.5987, test loss=0.6156\n",
      "Epoch 19/20: train loss=0.5973, test loss=0.6010\n",
      "Epoch 20/20: train loss=0.5938, test loss=0.6042\n"
     ]
    },
    {
     "name": "stderr",
     "output_type": "stream",
     "text": [
      "C:\\Users\\kdai1\\AppData\\Local\\Temp\\ipykernel_31136\\1218677327.py:29: UserWarning: indexing with dtype torch.uint8 is now deprecated, please use a dtype torch.bool instead. (Triggered internally at ..\\aten\\src\\ATen/native/IndexingUtils.h:28.)\n",
      "  c = c[correct_pred].detach().numpy()\n",
      "C:\\Users\\kdai1\\AppData\\Local\\Temp\\ipykernel_31136\\1218677327.py:30: UserWarning: indexing with dtype torch.uint8 is now deprecated, please use a dtype torch.bool instead. (Triggered internally at ..\\aten\\src\\ATen/native/IndexingUtils.h:28.)\n",
      "  P = P[correct_pred].detach().numpy()\n"
     ]
    },
    {
     "name": "stdout",
     "output_type": "stream",
     "text": [
      "Training model at timestamp 840000...\n",
      "Epoch 1/20: train loss=0.6633, test loss=0.6561\n",
      "Epoch 2/20: train loss=0.6420, test loss=0.6370\n",
      "Epoch 3/20: train loss=0.6308, test loss=0.6472\n",
      "Epoch 4/20: train loss=0.6291, test loss=0.6461\n",
      "Epoch 5/20: train loss=0.6324, test loss=0.6513\n",
      "Epoch 6/20: train loss=0.6286, test loss=0.6260\n",
      "Epoch 7/20: train loss=0.6196, test loss=0.6221\n",
      "Epoch 8/20: train loss=0.6127, test loss=0.6222\n",
      "Epoch 9/20: train loss=0.6065, test loss=0.6163\n",
      "Epoch 10/20: train loss=0.6037, test loss=0.6472\n",
      "Epoch 11/20: train loss=0.6068, test loss=0.6046\n",
      "Epoch 12/20: train loss=0.5908, test loss=0.6066\n",
      "Epoch 13/20: train loss=0.5962, test loss=0.6177\n",
      "Epoch 14/20: train loss=0.5969, test loss=0.6046\n",
      "Epoch 15/20: train loss=0.5951, test loss=0.6120\n",
      "Epoch 16/20: train loss=0.5976, test loss=0.6029\n",
      "Epoch 17/20: train loss=0.5943, test loss=0.6288\n",
      "Epoch 18/20: train loss=0.6079, test loss=0.6208\n",
      "Epoch 19/20: train loss=0.6006, test loss=0.6194\n",
      "Epoch 20/20: train loss=0.6007, test loss=0.6053\n"
     ]
    },
    {
     "name": "stderr",
     "output_type": "stream",
     "text": [
      "C:\\Users\\kdai1\\AppData\\Local\\Temp\\ipykernel_31136\\1218677327.py:29: UserWarning: indexing with dtype torch.uint8 is now deprecated, please use a dtype torch.bool instead. (Triggered internally at ..\\aten\\src\\ATen/native/IndexingUtils.h:28.)\n",
      "  c = c[correct_pred].detach().numpy()\n",
      "C:\\Users\\kdai1\\AppData\\Local\\Temp\\ipykernel_31136\\1218677327.py:30: UserWarning: indexing with dtype torch.uint8 is now deprecated, please use a dtype torch.bool instead. (Triggered internally at ..\\aten\\src\\ATen/native/IndexingUtils.h:28.)\n",
      "  P = P[correct_pred].detach().numpy()\n"
     ]
    },
    {
     "name": "stdout",
     "output_type": "stream",
     "text": [
      "Training model at timestamp 900000...\n",
      "Epoch 1/20: train loss=0.6670, test loss=0.6697\n",
      "Epoch 2/20: train loss=0.6540, test loss=0.6541\n",
      "Epoch 3/20: train loss=0.6361, test loss=0.6475\n",
      "Epoch 4/20: train loss=0.6259, test loss=0.6274\n",
      "Epoch 5/20: train loss=0.6108, test loss=0.6284\n",
      "Epoch 6/20: train loss=0.6091, test loss=0.6128\n",
      "Epoch 7/20: train loss=0.6020, test loss=0.6294\n",
      "Epoch 8/20: train loss=0.6072, test loss=0.6203\n",
      "Epoch 9/20: train loss=0.6036, test loss=0.6113\n",
      "Epoch 10/20: train loss=0.5965, test loss=0.6111\n",
      "Epoch 11/20: train loss=0.5993, test loss=0.6246\n",
      "Epoch 12/20: train loss=0.5905, test loss=0.5975\n",
      "Epoch 13/20: train loss=0.5935, test loss=0.6015\n",
      "Epoch 14/20: train loss=0.5942, test loss=0.5961\n",
      "Epoch 15/20: train loss=0.5880, test loss=0.5868\n",
      "Epoch 16/20: train loss=0.5785, test loss=0.6028\n",
      "Epoch 17/20: train loss=0.5924, test loss=0.5998\n",
      "Epoch 18/20: train loss=0.5888, test loss=0.6035\n",
      "Epoch 19/20: train loss=0.6064, test loss=0.6139\n",
      "Epoch 20/20: train loss=0.5966, test loss=0.5936\n"
     ]
    },
    {
     "name": "stderr",
     "output_type": "stream",
     "text": [
      "C:\\Users\\kdai1\\AppData\\Local\\Temp\\ipykernel_31136\\1218677327.py:29: UserWarning: indexing with dtype torch.uint8 is now deprecated, please use a dtype torch.bool instead. (Triggered internally at ..\\aten\\src\\ATen/native/IndexingUtils.h:28.)\n",
      "  c = c[correct_pred].detach().numpy()\n",
      "C:\\Users\\kdai1\\AppData\\Local\\Temp\\ipykernel_31136\\1218677327.py:30: UserWarning: indexing with dtype torch.uint8 is now deprecated, please use a dtype torch.bool instead. (Triggered internally at ..\\aten\\src\\ATen/native/IndexingUtils.h:28.)\n",
      "  P = P[correct_pred].detach().numpy()\n"
     ]
    },
    {
     "name": "stdout",
     "output_type": "stream",
     "text": [
      "Training model at timestamp 960000...\n",
      "Epoch 1/20: train loss=0.6616, test loss=0.6416\n",
      "Epoch 2/20: train loss=0.6313, test loss=0.6456\n",
      "Epoch 3/20: train loss=0.6400, test loss=0.6587\n",
      "Epoch 4/20: train loss=0.6308, test loss=0.6256\n",
      "Epoch 5/20: train loss=0.6151, test loss=0.6302\n",
      "Epoch 6/20: train loss=0.6120, test loss=0.6462\n",
      "Epoch 7/20: train loss=0.6093, test loss=0.6248\n",
      "Epoch 8/20: train loss=0.6116, test loss=0.6172\n",
      "Epoch 9/20: train loss=0.6006, test loss=0.6135\n",
      "Epoch 10/20: train loss=0.6077, test loss=0.6363\n",
      "Epoch 11/20: train loss=0.6118, test loss=0.6189\n",
      "Epoch 12/20: train loss=0.6023, test loss=0.6299\n",
      "Epoch 13/20: train loss=0.5992, test loss=0.6308\n",
      "Epoch 14/20: train loss=0.6248, test loss=0.6366\n",
      "Epoch 15/20: train loss=0.6104, test loss=0.6355\n",
      "Epoch 16/20: train loss=0.6127, test loss=0.6410\n",
      "Epoch 17/20: train loss=0.6282, test loss=0.6435\n",
      "Epoch 18/20: train loss=0.6111, test loss=0.6335\n",
      "Epoch 19/20: train loss=0.6080, test loss=0.6049\n",
      "Epoch 20/20: train loss=0.5994, test loss=0.6062\n"
     ]
    },
    {
     "name": "stderr",
     "output_type": "stream",
     "text": [
      "C:\\Users\\kdai1\\AppData\\Local\\Temp\\ipykernel_31136\\1218677327.py:29: UserWarning: indexing with dtype torch.uint8 is now deprecated, please use a dtype torch.bool instead. (Triggered internally at ..\\aten\\src\\ATen/native/IndexingUtils.h:28.)\n",
      "  c = c[correct_pred].detach().numpy()\n",
      "C:\\Users\\kdai1\\AppData\\Local\\Temp\\ipykernel_31136\\1218677327.py:30: UserWarning: indexing with dtype torch.uint8 is now deprecated, please use a dtype torch.bool instead. (Triggered internally at ..\\aten\\src\\ATen/native/IndexingUtils.h:28.)\n",
      "  P = P[correct_pred].detach().numpy()\n"
     ]
    },
    {
     "name": "stdout",
     "output_type": "stream",
     "text": [
      "Training model at timestamp 1020000...\n",
      "Epoch 1/20: train loss=0.6662, test loss=0.6637\n",
      "Epoch 2/20: train loss=0.6437, test loss=0.6402\n",
      "Epoch 3/20: train loss=0.6230, test loss=0.6214\n",
      "Epoch 4/20: train loss=0.6156, test loss=0.6360\n",
      "Epoch 5/20: train loss=0.6070, test loss=0.6195\n",
      "Epoch 6/20: train loss=0.6025, test loss=0.6116\n",
      "Epoch 7/20: train loss=0.5929, test loss=0.6227\n",
      "Epoch 8/20: train loss=0.5985, test loss=0.6279\n",
      "Epoch 9/20: train loss=0.6063, test loss=0.6020\n",
      "Epoch 10/20: train loss=0.5887, test loss=0.5946\n",
      "Epoch 11/20: train loss=0.5913, test loss=0.6205\n",
      "Epoch 12/20: train loss=0.5940, test loss=0.6101\n",
      "Epoch 13/20: train loss=0.5930, test loss=0.5988\n",
      "Epoch 14/20: train loss=0.5797, test loss=0.5820\n",
      "Epoch 15/20: train loss=0.5749, test loss=0.6046\n",
      "Epoch 16/20: train loss=0.5974, test loss=0.5980\n",
      "Epoch 17/20: train loss=0.5944, test loss=0.6269\n",
      "Epoch 18/20: train loss=0.6019, test loss=0.5952\n",
      "Epoch 19/20: train loss=0.5898, test loss=0.5912\n",
      "Epoch 20/20: train loss=0.5995, test loss=0.6084\n"
     ]
    },
    {
     "name": "stderr",
     "output_type": "stream",
     "text": [
      "C:\\Users\\kdai1\\AppData\\Local\\Temp\\ipykernel_31136\\1218677327.py:29: UserWarning: indexing with dtype torch.uint8 is now deprecated, please use a dtype torch.bool instead. (Triggered internally at ..\\aten\\src\\ATen/native/IndexingUtils.h:28.)\n",
      "  c = c[correct_pred].detach().numpy()\n",
      "C:\\Users\\kdai1\\AppData\\Local\\Temp\\ipykernel_31136\\1218677327.py:30: UserWarning: indexing with dtype torch.uint8 is now deprecated, please use a dtype torch.bool instead. (Triggered internally at ..\\aten\\src\\ATen/native/IndexingUtils.h:28.)\n",
      "  P = P[correct_pred].detach().numpy()\n"
     ]
    },
    {
     "name": "stdout",
     "output_type": "stream",
     "text": [
      "Training model at timestamp 1080000...\n",
      "Epoch 1/20: train loss=0.6686, test loss=0.6564\n",
      "Epoch 2/20: train loss=0.6412, test loss=0.6504\n",
      "Epoch 3/20: train loss=0.6299, test loss=0.6532\n",
      "Epoch 4/20: train loss=0.6218, test loss=0.6246\n",
      "Epoch 5/20: train loss=0.6043, test loss=0.6125\n",
      "Epoch 6/20: train loss=0.6125, test loss=0.6189\n",
      "Epoch 7/20: train loss=0.6123, test loss=0.6188\n",
      "Epoch 8/20: train loss=0.6074, test loss=0.6093\n",
      "Epoch 9/20: train loss=0.5928, test loss=0.6172\n",
      "Epoch 10/20: train loss=0.5979, test loss=0.6016\n",
      "Epoch 11/20: train loss=0.5865, test loss=0.6010\n",
      "Epoch 12/20: train loss=0.5876, test loss=0.6119\n",
      "Epoch 13/20: train loss=0.6052, test loss=0.6276\n",
      "Epoch 14/20: train loss=0.6007, test loss=0.6238\n",
      "Epoch 15/20: train loss=0.6025, test loss=0.6280\n",
      "Epoch 16/20: train loss=0.6088, test loss=0.5994\n",
      "Epoch 17/20: train loss=0.5959, test loss=0.6161\n",
      "Epoch 18/20: train loss=0.6030, test loss=0.6064\n",
      "Epoch 19/20: train loss=0.6031, test loss=0.6163\n",
      "Epoch 20/20: train loss=0.5840, test loss=0.5918\n"
     ]
    },
    {
     "name": "stderr",
     "output_type": "stream",
     "text": [
      "C:\\Users\\kdai1\\AppData\\Local\\Temp\\ipykernel_31136\\1218677327.py:29: UserWarning: indexing with dtype torch.uint8 is now deprecated, please use a dtype torch.bool instead. (Triggered internally at ..\\aten\\src\\ATen/native/IndexingUtils.h:28.)\n",
      "  c = c[correct_pred].detach().numpy()\n",
      "C:\\Users\\kdai1\\AppData\\Local\\Temp\\ipykernel_31136\\1218677327.py:30: UserWarning: indexing with dtype torch.uint8 is now deprecated, please use a dtype torch.bool instead. (Triggered internally at ..\\aten\\src\\ATen/native/IndexingUtils.h:28.)\n",
      "  P = P[correct_pred].detach().numpy()\n"
     ]
    },
    {
     "name": "stdout",
     "output_type": "stream",
     "text": [
      "Training model at timestamp 1140000...\n",
      "Epoch 1/20: train loss=0.6669, test loss=0.6510\n",
      "Epoch 2/20: train loss=0.6318, test loss=0.6353\n",
      "Epoch 3/20: train loss=0.6235, test loss=0.6232\n",
      "Epoch 4/20: train loss=0.6086, test loss=0.6162\n",
      "Epoch 5/20: train loss=0.5974, test loss=0.6099\n",
      "Epoch 6/20: train loss=0.5917, test loss=0.6150\n",
      "Epoch 7/20: train loss=0.5944, test loss=0.6207\n",
      "Epoch 8/20: train loss=0.5926, test loss=0.6055\n",
      "Epoch 9/20: train loss=0.5799, test loss=0.5724\n",
      "Epoch 10/20: train loss=0.5646, test loss=0.5792\n",
      "Epoch 11/20: train loss=0.5547, test loss=0.5837\n",
      "Epoch 12/20: train loss=0.5667, test loss=0.5810\n",
      "Epoch 13/20: train loss=0.5622, test loss=0.6031\n",
      "Epoch 14/20: train loss=0.5853, test loss=0.5661\n",
      "Epoch 15/20: train loss=0.5604, test loss=0.5750\n",
      "Epoch 16/20: train loss=0.5658, test loss=0.5817\n",
      "Epoch 17/20: train loss=0.5594, test loss=0.5736\n",
      "Epoch 18/20: train loss=0.5677, test loss=0.5972\n",
      "Epoch 19/20: train loss=0.5739, test loss=0.5933\n",
      "Epoch 20/20: train loss=0.5742, test loss=0.5940\n"
     ]
    },
    {
     "name": "stderr",
     "output_type": "stream",
     "text": [
      "C:\\Users\\kdai1\\AppData\\Local\\Temp\\ipykernel_31136\\1218677327.py:29: UserWarning: indexing with dtype torch.uint8 is now deprecated, please use a dtype torch.bool instead. (Triggered internally at ..\\aten\\src\\ATen/native/IndexingUtils.h:28.)\n",
      "  c = c[correct_pred].detach().numpy()\n",
      "C:\\Users\\kdai1\\AppData\\Local\\Temp\\ipykernel_31136\\1218677327.py:30: UserWarning: indexing with dtype torch.uint8 is now deprecated, please use a dtype torch.bool instead. (Triggered internally at ..\\aten\\src\\ATen/native/IndexingUtils.h:28.)\n",
      "  P = P[correct_pred].detach().numpy()\n"
     ]
    },
    {
     "name": "stdout",
     "output_type": "stream",
     "text": [
      "Training model at timestamp 1200000...\n",
      "Epoch 1/20: train loss=0.6376, test loss=0.6291\n",
      "Epoch 2/20: train loss=0.6135, test loss=0.6319\n",
      "Epoch 3/20: train loss=0.6063, test loss=0.6290\n",
      "Epoch 4/20: train loss=0.6066, test loss=0.6122\n",
      "Epoch 5/20: train loss=0.5937, test loss=0.6178\n",
      "Epoch 6/20: train loss=0.6016, test loss=0.6076\n",
      "Epoch 7/20: train loss=0.5860, test loss=0.6125\n",
      "Epoch 8/20: train loss=0.5984, test loss=0.5956\n",
      "Epoch 9/20: train loss=0.5825, test loss=0.5886\n",
      "Epoch 10/20: train loss=0.5719, test loss=0.6160\n",
      "Epoch 11/20: train loss=0.5839, test loss=0.5897\n",
      "Epoch 12/20: train loss=0.5724, test loss=0.5870\n",
      "Epoch 13/20: train loss=0.5694, test loss=0.5800\n",
      "Epoch 14/20: train loss=0.5645, test loss=0.5747\n",
      "Epoch 15/20: train loss=0.5654, test loss=0.5948\n",
      "Epoch 16/20: train loss=0.5702, test loss=0.5899\n",
      "Epoch 17/20: train loss=0.5767, test loss=0.5993\n",
      "Epoch 18/20: train loss=0.5768, test loss=0.5891\n",
      "Epoch 19/20: train loss=0.5878, test loss=0.5843\n",
      "Epoch 20/20: train loss=0.5793, test loss=0.5988\n"
     ]
    },
    {
     "name": "stderr",
     "output_type": "stream",
     "text": [
      "C:\\Users\\kdai1\\AppData\\Local\\Temp\\ipykernel_31136\\1218677327.py:29: UserWarning: indexing with dtype torch.uint8 is now deprecated, please use a dtype torch.bool instead. (Triggered internally at ..\\aten\\src\\ATen/native/IndexingUtils.h:28.)\n",
      "  c = c[correct_pred].detach().numpy()\n",
      "C:\\Users\\kdai1\\AppData\\Local\\Temp\\ipykernel_31136\\1218677327.py:30: UserWarning: indexing with dtype torch.uint8 is now deprecated, please use a dtype torch.bool instead. (Triggered internally at ..\\aten\\src\\ATen/native/IndexingUtils.h:28.)\n",
      "  P = P[correct_pred].detach().numpy()\n"
     ]
    },
    {
     "name": "stdout",
     "output_type": "stream",
     "text": [
      "model training complete\n"
     ]
    }
   ],
   "source": [
    "lstmEarlyClassifier.fit(X_dict, Y_dict)"
   ]
  },
  {
   "cell_type": "code",
   "execution_count": 118,
   "metadata": {},
   "outputs": [
    {
     "name": "stdout",
     "output_type": "stream",
     "text": [
      "Test accuracy of model at timestamp 60000: 51.02%\n",
      "Test accuracy of model at timestamp 120000: 51.19%\n",
      "Test accuracy of model at timestamp 180000: 55.79%\n",
      "Test accuracy of model at timestamp 240000: 57.84%\n",
      "Test accuracy of model at timestamp 300000: 62.99%\n",
      "Test accuracy of model at timestamp 360000: 58.17%\n",
      "Test accuracy of model at timestamp 420000: 62.99%\n",
      "Test accuracy of model at timestamp 480000: 64.82%\n",
      "Test accuracy of model at timestamp 540000: 66.15%\n",
      "Test accuracy of model at timestamp 600000: 66.98%\n",
      "Test accuracy of model at timestamp 660000: 67.92%\n",
      "Test accuracy of model at timestamp 720000: 71.36%\n",
      "Test accuracy of model at timestamp 780000: 72.19%\n",
      "Test accuracy of model at timestamp 840000: 73.74%\n",
      "Test accuracy of model at timestamp 900000: 74.07%\n",
      "Test accuracy of model at timestamp 960000: 74.68%\n",
      "Test accuracy of model at timestamp 1020000: 75.62%\n",
      "Test accuracy of model at timestamp 1080000: 74.46%\n",
      "Test accuracy of model at timestamp 1140000: 75.18%\n",
      "Test accuracy of model at timestamp 1200000: 77.56%\n"
     ]
    }
   ],
   "source": [
    "lstmEarlyClassifier.score(X_test_dict, Y_test_dict)"
   ]
  },
  {
   "cell_type": "code",
   "execution_count": 119,
   "metadata": {},
   "outputs": [
    {
     "name": "stdout",
     "output_type": "stream",
     "text": [
      "writing models for timestamp 60000...\n",
      "writing models for timestamp 120000...\n",
      "writing models for timestamp 180000...\n",
      "writing models for timestamp 240000...\n",
      "writing models for timestamp 300000...\n",
      "writing models for timestamp 360000...\n",
      "writing models for timestamp 420000...\n",
      "writing models for timestamp 480000...\n",
      "writing models for timestamp 540000...\n",
      "writing models for timestamp 600000...\n",
      "writing models for timestamp 660000...\n",
      "writing models for timestamp 720000...\n",
      "writing models for timestamp 780000...\n",
      "writing models for timestamp 840000...\n",
      "writing models for timestamp 900000...\n",
      "writing models for timestamp 960000...\n",
      "writing models for timestamp 1020000...\n",
      "writing models for timestamp 1080000...\n",
      "writing models for timestamp 1140000...\n",
      "writing models for timestamp 1200000...\n",
      "model writing complete\n"
     ]
    }
   ],
   "source": [
    "lstmEarlyClassifier.save_models('models/lstm')"
   ]
  },
  {
   "attachments": {},
   "cell_type": "markdown",
   "metadata": {},
   "source": [
    "## Results aggregation "
   ]
  },
  {
   "cell_type": "code",
   "execution_count": 145,
   "metadata": {},
   "outputs": [
    {
     "data": {
      "text/html": [
       "<div>\n",
       "<style scoped>\n",
       "    .dataframe tbody tr th:only-of-type {\n",
       "        vertical-align: middle;\n",
       "    }\n",
       "\n",
       "    .dataframe tbody tr th {\n",
       "        vertical-align: top;\n",
       "    }\n",
       "\n",
       "    .dataframe thead th {\n",
       "        text-align: right;\n",
       "    }\n",
       "</style>\n",
       "<table border=\"1\" class=\"dataframe\">\n",
       "  <thead>\n",
       "    <tr style=\"text-align: right;\">\n",
       "      <th></th>\n",
       "      <th>model</th>\n",
       "      <th>timestamp</th>\n",
       "      <th>accuracy</th>\n",
       "    </tr>\n",
       "  </thead>\n",
       "  <tbody>\n",
       "    <tr>\n",
       "      <th>0</th>\n",
       "      <td>Early LightGBM</td>\n",
       "      <td>1.0</td>\n",
       "      <td>51.039069</td>\n",
       "    </tr>\n",
       "    <tr>\n",
       "      <th>1</th>\n",
       "      <td>Early LightGBM</td>\n",
       "      <td>2.0</td>\n",
       "      <td>52.715183</td>\n",
       "    </tr>\n",
       "    <tr>\n",
       "      <th>2</th>\n",
       "      <td>Early LightGBM</td>\n",
       "      <td>3.0</td>\n",
       "      <td>52.424494</td>\n",
       "    </tr>\n",
       "    <tr>\n",
       "      <th>3</th>\n",
       "      <td>Early LightGBM</td>\n",
       "      <td>4.0</td>\n",
       "      <td>53.979162</td>\n",
       "    </tr>\n",
       "    <tr>\n",
       "      <th>4</th>\n",
       "      <td>Early LightGBM</td>\n",
       "      <td>5.0</td>\n",
       "      <td>55.980419</td>\n",
       "    </tr>\n",
       "  </tbody>\n",
       "</table>\n",
       "</div>"
      ],
      "text/plain": [
       "            model timestamp   accuracy\n",
       "0  Early LightGBM       1.0  51.039069\n",
       "1  Early LightGBM       2.0  52.715183\n",
       "2  Early LightGBM       3.0  52.424494\n",
       "3  Early LightGBM       4.0  53.979162\n",
       "4  Early LightGBM       5.0  55.980419"
      ]
     },
     "execution_count": 145,
     "metadata": {},
     "output_type": "execute_result"
    }
   ],
   "source": [
    "results = pd.DataFrame(columns=['model', 'timestamp', 'accuracy'])\n",
    "lgbm_results = lgbmEarlyClassifier.scores\n",
    "xgb_results = xgbEarlyClassifier.scores\n",
    "lstm_results = lstmEarlyClassifier.scores\n",
    "\n",
    "def append_results(results, model_results, model_name):\n",
    "    tmp = {}\n",
    "    tmp['model'] = [model_name for _ in range(len(model_results.keys()))]\n",
    "    tmp['timestamp'] = list(model_results.keys())\n",
    "    tmp['accuracy'] = list(model_results.values())\n",
    "    tmp = pd.DataFrame.from_dict(tmp)\n",
    "    results = pd.concat([results, tmp], axis=0).reset_index(drop=True)\n",
    "    return results\n",
    "\n",
    "for model_results, model_name in [(lgbm_results,'Early LightGBM'),(xgb_results,'Early XGBoost'),(lstm_results,'Early LSTM')]:\n",
    "    results = append_results(results, model_results, model_name)\n",
    "\n",
    "results['timestamp'] = results['timestamp'] / 60000\n",
    "results.head()"
   ]
  },
  {
   "cell_type": "code",
   "execution_count": 150,
   "metadata": {},
   "outputs": [],
   "source": [
    "tmp = pd.read_pickle('early_classification_model_performance_LSTMNN.pkl')\n",
    "tmp = tmp[tmp['timestamp'].isin(results['timestamp'].unique())]\n",
    "tmp['model'] = 'LSTM-NN'\n",
    "results = pd.concat([results,tmp])"
   ]
  },
  {
   "cell_type": "code",
   "execution_count": 154,
   "metadata": {},
   "outputs": [
    {
     "data": {
      "text/plain": [
       "<matplotlib.legend.Legend at 0x1bc507b4160>"
      ]
     },
     "execution_count": 154,
     "metadata": {},
     "output_type": "execute_result"
    },
    {
     "data": {
      "image/png": "[encoded data removed]",
      "text/plain": [
       "<Figure size 1000x600 with 1 Axes>"
      ]
     },
     "metadata": {},
     "output_type": "display_data"
    }
   ],
   "source": [
    "fig, ax = plt.subplots(figsize=(10,6))\n",
    "sns.lineplot(data=results, x='timestamp', y='accuracy', hue='model', ax=ax)\n",
    "ax.set_title('Accuracy per Timestamp by Model')\n",
    "ax.set_ylabel('Model Accuracy %')\n",
    "ax.set_xlabel('Timestamp')\n",
    "ax.legend(title='Model Name')"
   ]
  },
  {
   "cell_type": "code",
   "execution_count": null,
   "metadata": {},
   "outputs": [],
   "source": []
  }
 ],
 "metadata": {
  "kernelspec": {
   "display_name": "tf",
   "language": "python",
   "name": "python3"
  },
  "language_info": {
   "codemirror_mode": {
    "name": "ipython",
    "version": 3
   },
   "file_extension": ".py",
   "mimetype": "text/x-python",
   "name": "python",
   "nbconvert_exporter": "python",
   "pygments_lexer": "ipython3",
   "version": "3.10.9"
  },
  "orig_nbformat": 4,
  "vscode": {
   "interpreter": {
    "hash": "4b074d89e238ef4578f681719d3d553c7ae7733ac19eff28dd6194fd04b7c5b2"
   }
  }
 },
 "nbformat": 4,
 "nbformat_minor": 2
}
